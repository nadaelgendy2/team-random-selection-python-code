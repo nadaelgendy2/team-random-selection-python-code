{
  "cells": [
    {
      "cell_type": "markdown",
      "metadata": {
        "id": "view-in-github",
        "colab_type": "text"
      },
      "source": [
        "<a href=\"https://colab.research.google.com/github/nadaelgendy2/team-random-selection-python-code/blob/main/team_random_selection_code.ipynb\" target=\"_parent\"><img src=\"https://colab.research.google.com/assets/colab-badge.svg\" alt=\"Open In Colab\"/></a>"
      ]
    },
    {
      "cell_type": "markdown",
      "metadata": {
        "id": "R-tUyT2c7S_T"
      },
      "source": [
        "# Team Random Selection Code :)\n"
      ]
    },
    {
      "cell_type": "code",
      "execution_count": 1,
      "metadata": {
        "id": "dMnyC9U77S_V"
      },
      "outputs": [],
      "source": [
        "import random\n",
        "\n",
        "# Define the four test lists\n",
        "level1_list = [1, 2, 3, 4]\n",
        "level2_list = ['a', 'b', 'c','d']\n",
        "level3_list = [99, 88, 77,66]\n",
        "level4_list = [\"1$\",\"2&\",\"3%\",\"4©\"]"
      ]
    },
    {
      "cell_type": "markdown",
      "metadata": {
        "id": "vp9z6z-87S_X"
      },
      "source": [
        "Think about a code that help us to have random new mixed lists, each list should have one element from each level lists.\n",
        "\n",
        "Output may be like that following:\n",
        "```python\n",
        "team1 = [1, 'c', 88, '2&']\n",
        "team2 = [4, 'a', 99, '3%']\n",
        "team3 = [2, 'b', 77, '4©']\n",
        "team4 = [3, 'd', 66, '1$']\n",
        "```\n",
        "\n"
      ]
    },
    {
      "cell_type": "code",
      "execution_count": 4,
      "metadata": {
        "colab": {
          "base_uri": "https://localhost:8080/"
        },
        "id": "eq7eVtXG7S_Y",
        "outputId": "270d8e54-3016-47c9-b049-f7c319db40af"
      },
      "outputs": [
        {
          "output_type": "stream",
          "name": "stdout",
          "text": [
            "team1 = [4, 'c', 66, '4©']\n",
            "team2 = [2, 'b', 99, '3%']\n",
            "team3 = [3, 'a', 66, '4©']\n",
            "team4 = [4, 'b', 77, '1$']\n"
          ]
        }
      ],
      "source": [
        "def create_mixed_list():\n",
        "    return [random.choice(level1_list), random.choice(level2_list), random.choice(level3_list), random.choice(level4_list)]\n",
        "\n",
        "# Generate four random mixed lists\n",
        "team1 = create_mixed_list()\n",
        "team2 = create_mixed_list()\n",
        "team3 = create_mixed_list()\n",
        "team4 = create_mixed_list()\n",
        "\n",
        "# Print the results\n",
        "print(\"team1 =\", team1)\n",
        "print(\"team2 =\", team2)\n",
        "print(\"team3 =\", team3)\n",
        "print(\"team4 =\", team4)"
      ]
    },
    {
      "cell_type": "code",
      "source": [
        "def create_mixed_list():\n",
        "    used_elements = []\n",
        "    mixed_list = []\n",
        "\n",
        "    for _ in range(4):\n",
        "        while True:\n",
        "            level1_choice = random.choice(level1_list)\n",
        "            if level1_choice not in used_elements:\n",
        "                mixed_list.append(level1_choice)\n",
        "                used_elements.append(level1_choice)\n",
        "                break\n",
        "\n",
        "        while True:\n",
        "            level2_choice = random.choice(level2_list)\n",
        "            if level2_choice not in used_elements:\n",
        "                mixed_list.append(level2_choice)\n",
        "                used_elements.append(level2_choice)\n",
        "                break\n",
        "\n",
        "        while True:\n",
        "            level3_choice = random.choice(level3_list)\n",
        "            if level3_choice not in used_elements:\n",
        "                mixed_list.append(level3_choice)\n",
        "                used_elements.append(level3_choice)\n",
        "                break\n",
        "\n",
        "        while True:\n",
        "            level4_choice = random.choice(level4_list)\n",
        "            if level4_choice not in used_elements:\n",
        "                mixed_list.append(level4_choice)\n",
        "                used_elements.append(level4_choice)\n",
        "                break\n",
        "\n",
        "    return mixed_list\n",
        "\n",
        "# Generate four random mixed lists\n",
        "team1 = create_mixed_list()\n",
        "team2 = create_mixed_list()\n",
        "team3 = create_mixed_list()\n",
        "team4 = create_mixed_list()\n",
        "\n",
        "# Print the results\n",
        "print(\"team1 =\", team1)\n",
        "print(\"team2 =\", team2)\n",
        "print(\"team3 =\", team3)\n",
        "print(\"team4 =\", team4)"
      ],
      "metadata": {
        "colab": {
          "base_uri": "https://localhost:8080/"
        },
        "id": "loWEbj8J8y9F",
        "outputId": "5f761f9e-ce42-4c82-fd9e-297c6816dac2"
      },
      "execution_count": 8,
      "outputs": [
        {
          "output_type": "stream",
          "name": "stdout",
          "text": [
            "team1 = [3, 'b', 99, '4©', 2, 'c', 88, '2&', 1, 'a', 77, '3%', 4, 'd', 66, '1$']\n",
            "team2 = [2, 'd', 99, '3%', 1, 'a', 88, '2&', 3, 'b', 66, '1$', 4, 'c', 77, '4©']\n",
            "team3 = [2, 'c', 99, '2&', 4, 'b', 66, '4©', 3, 'd', 88, '3%', 1, 'a', 77, '1$']\n",
            "team4 = [4, 'c', 99, '3%', 3, 'a', 88, '2&', 2, 'd', 77, '4©', 1, 'b', 66, '1$']\n"
          ]
        }
      ]
    }
  ],
  "metadata": {
    "kernelspec": {
      "display_name": "pubmed",
      "language": "python",
      "name": "python3"
    },
    "language_info": {
      "name": "python",
      "version": "3.11.9"
    },
    "colab": {
      "provenance": [],
      "include_colab_link": true
    }
  },
  "nbformat": 4,
  "nbformat_minor": 0
}